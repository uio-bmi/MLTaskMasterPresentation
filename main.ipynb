{
 "cells": [
  {
   "cell_type": "markdown",
   "metadata": {
    "collapsed": true
   },
   "source": [
    "# Machine learning in bioinformatics\n",
    "\n",
    "Dataset: a set of DNA sequences labeled with 0 and 1\n",
    "\n",
    "Aim: build a classifier that will predict the label for new DNA sequences\n",
    "\n",
    "ML workflow:\n",
    "\n",
    "- import the dataset\n",
    "- prepare ML method(s) and encoding(s) and the set of hyperparameters to be evaluated\n",
    "- set up the evaluation of methods and encodings\n",
    "- select the final model"
   ]
  },
  {
   "cell_type": "markdown",
   "metadata": {},
   "source": [
    "## Importing the data\n",
    "\n",
    "The data is located in data.fa file. For each sequence, there is a line starting with `>` with the sequence label (0 or 1), and a new line with the DNA sequence itself:\n",
    "```\n",
    "> 1\n",
    "AGCGAGGCAGGTGCGGTCACGTGACCCGGCGGCGCTGCGGGGCAGCGGCCATTTTGCGGGGCGGCC\n",
    "> 0\n",
    "AGCGAGGGCGCTCGGAGTGCGACGTTTTGGCACCAGGCGGGGCGCACGGCATTGCCAAGCGGCCGC\n",
    "```\n",
    "\n",
    "Function load_data will import this data into a pandas dataframe."
   ]
  },
  {
   "cell_type": "code",
   "execution_count": 1,
   "metadata": {},
   "outputs": [
    {
     "data": {
      "text/html": [
       "<div>\n",
       "<style scoped>\n",
       "    .dataframe tbody tr th:only-of-type {\n",
       "        vertical-align: middle;\n",
       "    }\n",
       "\n",
       "    .dataframe tbody tr th {\n",
       "        vertical-align: top;\n",
       "    }\n",
       "\n",
       "    .dataframe thead th {\n",
       "        text-align: right;\n",
       "    }\n",
       "</style>\n",
       "<table border=\"1\" class=\"dataframe\">\n",
       "  <thead>\n",
       "    <tr style=\"text-align: right;\">\n",
       "      <th></th>\n",
       "      <th>sequence</th>\n",
       "      <th>label</th>\n",
       "    </tr>\n",
       "  </thead>\n",
       "  <tbody>\n",
       "    <tr>\n",
       "      <th>0</th>\n",
       "      <td>AGCGAGGCAGGTGCGGTCACGTGACCCGGCGGCGCTGCGGGGCAGC...</td>\n",
       "      <td>1</td>\n",
       "    </tr>\n",
       "    <tr>\n",
       "      <th>1</th>\n",
       "      <td>AGCGAGGGCGCTCGGAGTGCGACGTTTTGGCACCAGGCGGGGCGCA...</td>\n",
       "      <td>0</td>\n",
       "    </tr>\n",
       "    <tr>\n",
       "      <th>2</th>\n",
       "      <td>TCTGGTCCCACTTAGCGGGAGAAACTCGGGCCACGTGACTGTCTGA...</td>\n",
       "      <td>1</td>\n",
       "    </tr>\n",
       "    <tr>\n",
       "      <th>3</th>\n",
       "      <td>TCGCGTCTCCTGCCTCCCTGTCCCGGGGCGAGGACTGTCTCAGAAA...</td>\n",
       "      <td>0</td>\n",
       "    </tr>\n",
       "    <tr>\n",
       "      <th>4</th>\n",
       "      <td>ACTCCCCAGGTCAGCTGACGCTGCGTCCTCAGCGGGCTGTCAAGTG...</td>\n",
       "      <td>1</td>\n",
       "    </tr>\n",
       "    <tr>\n",
       "      <th>5</th>\n",
       "      <td>AGAAGAACTCGGGGCTGGAACCTGTCGTACGGGTGTCCAGCAGCTG...</td>\n",
       "      <td>0</td>\n",
       "    </tr>\n",
       "    <tr>\n",
       "      <th>6</th>\n",
       "      <td>GCTGGGAGGCGGTCACGTGGCGCAGGATGCACCCAACACCACCGTC...</td>\n",
       "      <td>1</td>\n",
       "    </tr>\n",
       "    <tr>\n",
       "      <th>7</th>\n",
       "      <td>GCCGCAGTCGGGCCCAGTGGATGGCGCACTCGACGGGAACCCGCGT...</td>\n",
       "      <td>0</td>\n",
       "    </tr>\n",
       "    <tr>\n",
       "      <th>8</th>\n",
       "      <td>TGAAGCCGCCATTTCCCCGGCCCAGCCACCACGTGACCCTTCTGCG...</td>\n",
       "      <td>1</td>\n",
       "    </tr>\n",
       "    <tr>\n",
       "      <th>9</th>\n",
       "      <td>TCCCGGCGAGCACGGACATACCCCATAGCTTTCTCCTCCGCCCGTG...</td>\n",
       "      <td>0</td>\n",
       "    </tr>\n",
       "  </tbody>\n",
       "</table>\n",
       "</div>"
      ],
      "text/plain": [
       "                                            sequence  label\n",
       "0  AGCGAGGCAGGTGCGGTCACGTGACCCGGCGGCGCTGCGGGGCAGC...      1\n",
       "1  AGCGAGGGCGCTCGGAGTGCGACGTTTTGGCACCAGGCGGGGCGCA...      0\n",
       "2  TCTGGTCCCACTTAGCGGGAGAAACTCGGGCCACGTGACTGTCTGA...      1\n",
       "3  TCGCGTCTCCTGCCTCCCTGTCCCGGGGCGAGGACTGTCTCAGAAA...      0\n",
       "4  ACTCCCCAGGTCAGCTGACGCTGCGTCCTCAGCGGGCTGTCAAGTG...      1\n",
       "5  AGAAGAACTCGGGGCTGGAACCTGTCGTACGGGTGTCCAGCAGCTG...      0\n",
       "6  GCTGGGAGGCGGTCACGTGGCGCAGGATGCACCCAACACCACCGTC...      1\n",
       "7  GCCGCAGTCGGGCCCAGTGGATGGCGCACTCGACGGGAACCCGCGT...      0\n",
       "8  TGAAGCCGCCATTTCCCCGGCCCAGCCACCACGTGACCCTTCTGCG...      1\n",
       "9  TCCCGGCGAGCACGGACATACCCCATAGCTTTCTCCTCCGCCCGTG...      0"
      ]
     },
     "execution_count": 1,
     "metadata": {},
     "output_type": "execute_result"
    }
   ],
   "source": [
    "from util import load_data\n",
    "\n",
    "dataset = load_data(\"data.fa\")\n",
    "\n",
    "dataset.head(10)"
   ]
  },
  {
   "cell_type": "markdown",
   "metadata": {},
   "source": [
    "## Defining ML methods and encodings\n",
    "\n",
    "In this section, a few ML methods will be defined. You can use any other suitable ML method from scikit-learn library that is already installed in this environment."
   ]
  },
  {
   "cell_type": "code",
   "execution_count": 4,
   "metadata": {},
   "outputs": [
    {
     "name": "stdout",
     "output_type": "stream",
     "text": [
      "[[1. 0. 0. ... 0. 0. 1.]\n",
      " [1. 0. 0. ... 0. 0. 1.]\n",
      " [0. 0. 0. ... 1. 0. 0.]\n",
      " ...\n",
      " [0. 0. 0. ... 1. 0. 0.]\n",
      " [0. 0. 1. ... 0. 0. 0.]\n",
      " [0. 0. 1. ... 0. 0. 0.]]\n"
     ]
    }
   ],
   "source": [
    "from sklearn.linear_model import LogisticRegression\n",
    "from sklearn.ensemble import RandomForestClassifier\n",
    "\n",
    "from util import encode_onehot\n",
    "\n",
    "\n",
    "# ML methods - defining ML methods to be used\n",
    "\n",
    "logistic_regression = LogisticRegression()\n",
    "random_forest = RandomForestClassifier()\n",
    "\n",
    "# encodings - encodes the data right away and returns a dictionary with encoded_data, labels, and feature_names\n",
    "\n",
    "one_hot_encoding = encode_onehot(dataset)\n",
    "\n",
    "print(one_hot_encoding['encoded_data'])"
   ]
  },
  {
   "cell_type": "markdown",
   "metadata": {},
   "source": [
    "### Defining a custom encoding\n",
    "\n",
    "Another encoding that can be used in this setting is based on the frequency of subsequences within a sequence.\n",
    "\n",
    "For example, if the original sequence is `AGCGAG`, subsequences of length 3 (3-mers) are:\n",
    "- `AGC`\n",
    "- `GCG`\n",
    "- `CGA`\n",
    "- `GAG`.\n",
    "\n",
    "The encoding would then represent each sequence by the frequency of each possible 3-mer. For sequence `AGCGAG` it would be:\n",
    "\n",
    "```\n",
    "[0., 0., 0., 0., 0., 0., 0., 0., 0, 0.25, 0.,\n",
    " 0., 0., 0., 0., 0., 0., 0., 0., 0., 0., 0.,\n",
    " 0., 0., 0.25, 0., 0., 0., 0., 0., 0., 0., 0.,\n",
    " 0., 0.25, 0., 0., 0., 0.25, 0., 0., 0., 0., 0.,\n",
    " 0., 0., 0., 0., 0., 0., 0., 0., 0., 0., 0.,\n",
    " 0., 0., 0., 0., 0., 0., 0., 0., 0.]\n",
    "```\n",
    "\n",
    "The first number is then the frequency of 3-mer `AAA`, the second the frequency of `AAC`, third `AAG`, ..., and the last one is the frequency of `TTT`.\n",
    "\n",
    "Here you can implement the function that will encode the dataset by representing each DNA sequence by the frequency of its subsequences.\n",
    "\n",
    "The function should take a pandas DataFrame as input with columns `sequence` and `label` (as shown above). It should output a dictionary with the following keys: `encoded_data` (matrix where each row represents one sequence and each column represents the frequency of one k-mer), `labels` (an array of labels for each sequence), and `feature_names` (a list of features names, e.g., `AAA`, `AAC`, `ACA`, etc.)"
   ]
  },
  {
   "cell_type": "code",
   "execution_count": 5,
   "metadata": {},
   "outputs": [
    {
     "name": "stdout",
     "output_type": "stream",
     "text": [
      "['A', 'C', 'G', 'T']\n"
     ]
    }
   ],
   "source": [
    "import pandas as pd\n",
    "from util import ALPHABET\n",
    "\n",
    "# all letters (nucleotides) that can be used in a sequence:\n",
    "print(ALPHABET)\n",
    "\n",
    "# define a custom encoding:\n",
    "\n",
    "def encode_kmer_frequencies(dataset: pd.DataFrame, k: int) -> dict:\n",
    "    \n",
    "    # add your code here and fill in the returned object\n",
    "    \n",
    "    return {\n",
    "        'encoded_data': None,\n",
    "        'labels': None,\n",
    "        'feature_names': None\n",
    "    }"
   ]
  },
  {
   "cell_type": "code",
   "execution_count": 4,
   "metadata": {},
   "outputs": [
    {
     "name": "stdout",
     "output_type": "stream",
     "text": [
      "k-mer encoding works!\n"
     ]
    }
   ],
   "source": [
    "import numpy as np\n",
    "from util import test_kmer_encoding\n",
    "\n",
    "test_kmer_encoding(encode_kmer_frequencies_func=encode_kmer_frequencies)\n",
    "    "
   ]
  },
  {
   "cell_type": "code",
   "execution_count": null,
   "metadata": {},
   "outputs": [],
   "source": []
  }
 ],
 "metadata": {
  "kernelspec": {
   "display_name": "Python 3 (ipykernel)",
   "language": "python",
   "name": "python3"
  },
  "language_info": {
   "codemirror_mode": {
    "name": "ipython",
    "version": 3
   },
   "file_extension": ".py",
   "mimetype": "text/x-python",
   "name": "python",
   "nbconvert_exporter": "python",
   "pygments_lexer": "ipython3",
   "version": "3.8.3"
  }
 },
 "nbformat": 4,
 "nbformat_minor": 1
}
